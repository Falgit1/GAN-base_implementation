{
 "cells": [
  {
   "cell_type": "code",
   "execution_count": 1,
   "id": "155e4ce8-2f6c-47cd-899b-cb06be29677e",
   "metadata": {},
   "outputs": [],
   "source": [
    "import tensorflow as tf\n",
    "from tensorflow.keras import Model,layers\n",
    "import numpy as np\n",
    "import matplotlib.pyplot as plt"
   ]
  },
  {
   "cell_type": "code",
   "execution_count": 6,
   "id": "2e8e90cf-9858-4804-acd7-e3d9c3eb6b50",
   "metadata": {},
   "outputs": [],
   "source": [
    "from keras.datasets import fashion_mnist"
   ]
  },
  {
   "cell_type": "code",
   "execution_count": 7,
   "id": "0eb48c58-53dc-4889-9e05-439a6dfeee05",
   "metadata": {},
   "outputs": [],
   "source": [
    "(x_train, y_train), (x_test, y_test)=fashion_mnist.load_data()"
   ]
  },
  {
   "cell_type": "code",
   "execution_count": 8,
   "id": "0b5522dc-f6a1-404b-af42-b3c68bf53593",
   "metadata": {},
   "outputs": [
    {
     "data": {
      "text/plain": [
       "numpy.ndarray"
      ]
     },
     "execution_count": 8,
     "metadata": {},
     "output_type": "execute_result"
    }
   ],
   "source": [
    "type(x_train)"
   ]
  },
  {
   "cell_type": "code",
   "execution_count": 9,
   "id": "fe36a487-5e63-40ae-b28d-1bb73ec4570e",
   "metadata": {},
   "outputs": [
    {
     "data": {
      "text/plain": [
       "((60000, 28, 28), (60000,))"
      ]
     },
     "execution_count": 9,
     "metadata": {},
     "output_type": "execute_result"
    }
   ],
   "source": [
    "x_train.shape,y_train.shape"
   ]
  },
  {
   "cell_type": "code",
   "execution_count": 10,
   "id": "c5619a38-d668-4ced-9f68-7b7e6485ec5f",
   "metadata": {},
   "outputs": [
    {
     "data": {
      "text/plain": [
       "(dtype('uint8'), dtype('uint8'))"
      ]
     },
     "execution_count": 10,
     "metadata": {},
     "output_type": "execute_result"
    }
   ],
   "source": [
    "x_train.dtype,y_train.dtype"
   ]
  },
  {
   "cell_type": "code",
   "execution_count": 7,
   "id": "61993b39-9fcc-48b0-b171-be6e3608cd28",
   "metadata": {},
   "outputs": [
    {
     "data": {
      "image/png": "[encoded data removed]",
      "text/plain": [
       "<Figure size 700x300 with 8 Axes>"
      ]
     },
     "metadata": {},
     "output_type": "display_data"
    }
   ],
   "source": [
    "plt.figure(figsize=(7,3))\n",
    "for i in range(8):\n",
    "    plt.subplot(2,4,i+1)\n",
    "    plt.imshow(x_train[i],cmap=\"grey\")\n",
    "    plt.axis(\"off\")\n",
    "\n",
    "plt.show()"
   ]
  },
  {
   "cell_type": "code",
   "execution_count": 8,
   "id": "0c066549-5161-4617-8f71-86bf80ffa267",
   "metadata": {
    "scrolled": true
   },
   "outputs": [
    {
     "name": "stdout",
     "output_type": "stream",
     "text": [
      "Model: \"model\"\n",
      "_________________________________________________________________\n",
      "Layer (type)                 Output Shape              Param #   \n",
      "=================================================================\n",
      "input_1 (InputLayer)         [(None, 100)]             0         \n",
      "_________________________________________________________________\n",
      "dense (Dense)                (None, 256)               25856     \n",
      "_________________________________________________________________\n",
      "leaky_re_lu (LeakyReLU)      (None, 256)               0         \n",
      "_________________________________________________________________\n",
      "batch_normalization (BatchNo (None, 256)               1024      \n",
      "_________________________________________________________________\n",
      "dense_1 (Dense)              (None, 512)               131584    \n",
      "_________________________________________________________________\n",
      "leaky_re_lu_1 (LeakyReLU)    (None, 512)               0         \n",
      "_________________________________________________________________\n",
      "batch_normalization_1 (Batch (None, 512)               2048      \n",
      "_________________________________________________________________\n",
      "dense_2 (Dense)              (None, 1024)              525312    \n",
      "_________________________________________________________________\n",
      "leaky_re_lu_2 (LeakyReLU)    (None, 1024)              0         \n",
      "_________________________________________________________________\n",
      "batch_normalization_2 (Batch (None, 1024)              4096      \n",
      "_________________________________________________________________\n",
      "dense_3 (Dense)              (None, 784)               803600    \n",
      "_________________________________________________________________\n",
      "reshape (Reshape)            (None, 28, 28, 1)         0         \n",
      "=================================================================\n",
      "Total params: 1,493,520\n",
      "Trainable params: 1,489,936\n",
      "Non-trainable params: 3,584\n",
      "_________________________________________________________________\n"
     ]
    }
   ],
   "source": [
    "img_shape=(28,28,1)\n",
    "def build_generator():\n",
    "    inp=layers.Input(100)\n",
    "    \n",
    "    x=layers.Dense(256)(inp)\n",
    "    x=layers.LeakyReLU(alpha=0.2)(x)\n",
    "    x=layers.BatchNormalization(momentum=0.8)(x)\n",
    "    \n",
    "    x=layers.Dense(512)(x)\n",
    "    x=layers.LeakyReLU(alpha=0.2)(x)\n",
    "    x=layers.BatchNormalization(momentum=0.8)(x)\n",
    "    \n",
    "    x=layers.Dense(1024)(x)\n",
    "    x=layers.LeakyReLU(alpha=0.2)(x)\n",
    "    x=layers.BatchNormalization(momentum=0.8)(x)\n",
    "\n",
    "    x=layers.Dense(np.prod(img_shape),activation='tanh')(x)\n",
    "    output=layers.Reshape(img_shape)(x)\n",
    "\n",
    "    model = Model(inp,output)\n",
    "    return model\n",
    "\n",
    "generator=build_generator()\n",
    "generator.summary()\n",
    "    "
   ]
  },
  {
   "cell_type": "code",
   "execution_count": 9,
   "id": "d92da915-0299-470b-88b4-2758c6b23f74",
   "metadata": {
    "scrolled": true
   },
   "outputs": [
    {
     "name": "stdout",
     "output_type": "stream",
     "text": [
      "Model: \"model_1\"\n",
      "_________________________________________________________________\n",
      "Layer (type)                 Output Shape              Param #   \n",
      "=================================================================\n",
      "input_2 (InputLayer)         [(None, 28, 28, 1)]       0         \n",
      "_________________________________________________________________\n",
      "flatten (Flatten)            (None, 784)               0         \n",
      "_________________________________________________________________\n",
      "dense_4 (Dense)              (None, 512)               401920    \n",
      "_________________________________________________________________\n",
      "leaky_re_lu_3 (LeakyReLU)    (None, 512)               0         \n",
      "_________________________________________________________________\n",
      "dense_5 (Dense)              (None, 256)               131328    \n",
      "_________________________________________________________________\n",
      "leaky_re_lu_4 (LeakyReLU)    (None, 256)               0         \n",
      "_________________________________________________________________\n",
      "dense_6 (Dense)              (None, 1)                 257       \n",
      "=================================================================\n",
      "Total params: 533,505\n",
      "Trainable params: 533,505\n",
      "Non-trainable params: 0\n",
      "_________________________________________________________________\n"
     ]
    }
   ],
   "source": [
    "img_shape=(28,28,1)\n",
    "def build_discriminator():\n",
    "    inp=layers.Input(img_shape)\n",
    "    \n",
    "    x=layers.Flatten()(inp)\n",
    "    x=layers.Dense(512)(x)    \n",
    "    x=layers.LeakyReLU(alpha=0.2)(x)\n",
    "    \n",
    "    x=layers.Dense(256)(x)\n",
    "    x=layers.LeakyReLU(alpha=0.2)(x)\n",
    "    \n",
    "    output=layers.Dense(1,activation='sigmoid')(x)\n",
    "    \n",
    "\n",
    "    model = Model(inp,output)\n",
    "    return model\n",
    "\n",
    "discriminator=build_discriminator()\n",
    "discriminator.summary()"
   ]
  },
  {
   "cell_type": "code",
   "execution_count": 10,
   "id": "347b2f5d-7e33-4b16-a0fd-73643a8f7114",
   "metadata": {},
   "outputs": [
    {
     "data": {
      "text/plain": [
       "(0, 255)"
      ]
     },
     "execution_count": 10,
     "metadata": {},
     "output_type": "execute_result"
    }
   ],
   "source": [
    "x_train[0].min(),x_train[0].max()"
   ]
  },
  {
   "cell_type": "code",
   "execution_count": 11,
   "id": "ce2dd65b-0332-49c0-8e48-16a30c6401ba",
   "metadata": {},
   "outputs": [],
   "source": [
    "x_train_norm=(x_train.astype(\"float32\")-127.5)/127.5"
   ]
  },
  {
   "cell_type": "code",
   "execution_count": 12,
   "id": "b6adfe50-5919-4960-90ca-01647d807aed",
   "metadata": {},
   "outputs": [
    {
     "data": {
      "text/plain": [
       "(-1.0, 1.0)"
      ]
     },
     "execution_count": 12,
     "metadata": {},
     "output_type": "execute_result"
    }
   ],
   "source": [
    "x_train_norm[0].min(),x_train_norm[0].max()"
   ]
  },
  {
   "cell_type": "code",
   "execution_count": 109,
   "id": "afe72331-159f-4e10-b2c5-b5a32c3af081",
   "metadata": {},
   "outputs": [],
   "source": [
    "\n",
    "# | Label | Description |\n",
    "# |:-----:|-------------|\n",
    "# |   0   | T-shirt/top |\n",
    "# |   1   | Trouser     |\n",
    "# |   2   | Pullover    |\n",
    "# |   3   | Dress       |\n",
    "# |   4   | Coat        |\n",
    "# |   5   | Sandal      |\n",
    "# |   6   | Shirt       |\n",
    "# |   7   | Sneaker     |\n",
    "# |   8   | Bag         |\n",
    "# |   9   | Ankle boot  |\n"
   ]
  },
  {
   "cell_type": "code",
   "execution_count": 4,
   "id": "c308c09d-8820-45d7-815a-69f1919e8c24",
   "metadata": {},
   "outputs": [],
   "source": [
    "\n",
    "\n",
    "def train(epochs,batch_size=128,save_interval=50):\n",
    "    (x_train, y_train), (x_test, y_test)=fashion_mnist.load_data()\n",
    "    x_train=(x_train.astype(\"float32\")-127.5)/127.5\n",
    "    x_train=np.expand_dims(x_train,axis=3)\n",
    "    \n",
    "    half_batch=batch_size//2\n",
    "    for epoch in range(epochs):\n",
    "        idx=np.random.randint(0,x_train.shape[0],half_batch)\n",
    "\n",
    "        # real images\n",
    "        imgs=x_train[idx]\n",
    "\n",
    "        noise = np.random.normal(0,1,(half_batch,100))\n",
    "\n",
    "        # Gen images\n",
    "        gen_imgs=generator.predict(noise)\n",
    "\n",
    "        # discriminator loss for real and gen images\n",
    "        d_loss_real=discriminator.train_on_batch(imgs,np.ones((half_batch,1)))\n",
    "        d_loss_gen=discriminator.train_on_batch(gen_imgs,np.zeros((half_batch,1)))\n",
    "\n",
    "        # average real and gen loss\n",
    "        d_loss=0.5* np.add(d_loss_real,d_loss_gen)\n",
    "\n",
    "        # training genrator \n",
    "        noise = np.random.normal(0,1,(batch_size,100))\n",
    "\n",
    "        valid_y=np.array([1]*batch_size)\n",
    "        \n",
    "        g_loss=combined.train_on_batch(noise,valid_y)\n",
    "\n",
    "        if epoch%500==0:\n",
    "            print(f\"Epoch: {epoch} =|= D_loss: {d_loss[0]} =|= acc: {d_loss[1]} =|= G_loss: {g_loss}\")\n",
    "\n",
    "        if epoch%save_interval==0:\n",
    "            pass\n"
   ]
  },
  {
   "cell_type": "code",
   "execution_count": 14,
   "id": "0c31cc86-af32-4951-ad92-706213fb7537",
   "metadata": {},
   "outputs": [],
   "source": [
    "optimizer=\"Adam\"\n",
    "lr=0.0002\n",
    "momentum = 0.5\n",
    "\n",
    "discriminator.compile(loss=\"binary_crossentropy\",optimizer=optimizer,metrics=['accuracy'])\n",
    "generator.compile(loss=\"binary_crossentropy\",optimizer=optimizer)\n",
    "\n",
    "z=layers.Input(shape=(100,))\n",
    "img=generator(z)\n",
    "\n",
    "discriminator.trainable=False\n",
    "\n",
    "valid=discriminator(img)\n",
    "\n",
    "combined=Model(z,valid)\n",
    "combined.compile(loss=\"binary_crossentropy\",optimizer=optimizer)"
   ]
  },
  {
   "cell_type": "code",
   "execution_count": 2,
   "id": "8030022b-59cd-4616-a57b-953111e46f39",
   "metadata": {},
   "outputs": [],
   "source": [
    "generator=tf.keras.models.load_model(\"fashion_gen_G.h5\")\n",
    "discriminator=tf.keras.models.load_model(\"fashion_gen_D.h5\")\n",
    "combined=tf.keras.models.load_model(\"fashion_gen_C.h5\")\n"
   ]
  },
  {
   "cell_type": "code",
   "execution_count": 17,
   "id": "a4ff7d93-fe00-4d77-993d-415303687a74",
   "metadata": {
    "scrolled": true
   },
   "outputs": [
    {
     "name": "stdout",
     "output_type": "stream",
     "text": [
      "Epoch: 0 =|= D_loss: 0.7211111411452293 =|= acc: 0.8125 =|= G_loss: 3.552916950866347e-06\n",
      "Epoch: 500 =|= D_loss: 0.3865221440792084 =|= acc: 0.84375 =|= G_loss: 1.0674584700609557e-05\n",
      "Epoch: 1000 =|= D_loss: 0.5754869431257248 =|= acc: 0.75 =|= G_loss: 2.5314291178801795e-06\n",
      "Epoch: 1500 =|= D_loss: 0.4928055927157402 =|= acc: 0.84375 =|= G_loss: 2.6047041501442436e-06\n",
      "Epoch: 2000 =|= D_loss: 0.42795172333717346 =|= acc: 0.8125 =|= G_loss: 2.2196577447175514e-06\n",
      "Epoch: 2500 =|= D_loss: 0.8046986311674118 =|= acc: 0.75 =|= G_loss: 7.283776994881919e-07\n",
      "Epoch: 3000 =|= D_loss: 0.48076409474015236 =|= acc: 0.8125 =|= G_loss: 4.398447117637261e-07\n",
      "Epoch: 3500 =|= D_loss: 0.37165461480617523 =|= acc: 0.875 =|= G_loss: 7.522465352849395e-07\n",
      "Epoch: 4000 =|= D_loss: 0.5600297451019287 =|= acc: 0.78125 =|= G_loss: 3.542641024978366e-07\n",
      "Epoch: 4500 =|= D_loss: 0.8861623108386993 =|= acc: 0.6875 =|= G_loss: 6.51501068205107e-07\n"
     ]
    }
   ],
   "source": [
    "train(epochs=5000,batch_size=32)"
   ]
  },
  {
   "cell_type": "code",
   "execution_count": 21,
   "id": "48fb4a96-e1c7-4c88-8ded-e03804524fc9",
   "metadata": {},
   "outputs": [],
   "source": [
    "generator.save(\"fashion_gen_G.h5\")\n",
    "discriminator.save(\"fashion_gen_D.h5\")\n",
    "combined.save(\"fashion_gen_C.h5\")\n"
   ]
  },
  {
   "cell_type": "code",
   "execution_count": null,
   "id": "44a6868f-3494-48f2-9642-5a783ce6bfea",
   "metadata": {},
   "outputs": [],
   "source": []
  },
  {
   "cell_type": "code",
   "execution_count": 20,
   "id": "feb10b59-20af-49d5-bd07-8b9a8287f760",
   "metadata": {},
   "outputs": [
    {
     "data": {
      "image/png": "[encoded data removed]",
      "text/plain": [
       "<Figure size 700x300 with 8 Axes>"
      ]
     },
     "metadata": {},
     "output_type": "display_data"
    }
   ],
   "source": [
    "\n",
    "plt.figure(figsize=(7,3))\n",
    "for i in range(8):\n",
    "    tnoise=np.random.normal(0,1,(1,100))\n",
    "    gen_img=generator.predict(tnoise)\n",
    "    gen_img=(0.5* gen_img)+0.5\n",
    "    plt.subplot(2,4,i+1)\n",
    "    plt.imshow(gen_img[0],cmap=\"grey\")\n",
    "    plt.axis(\"off\")\n",
    "\n",
    "plt.show()\n",
    "# plt.figure(figsize=(7,3))\n",
    "# for i in range(8):\n",
    "#     plt.subplot(2,4,i+1)\n",
    "#     plt.imshow(x_train[i],cmap=\"grey\")\n",
    "#     plt.axis(\"off\")\n",
    "\n"
   ]
  },
  {
   "cell_type": "code",
   "execution_count": null,
   "id": "ee2d0e51-73ed-4ee1-a59b-4ea0fe0ab892",
   "metadata": {},
   "outputs": [],
   "source": []
  },
  {
   "cell_type": "code",
   "execution_count": null,
   "id": "a6caf022-cd1c-46a3-b22d-1dc98d4c2c5f",
   "metadata": {},
   "outputs": [],
   "source": []
  }
 ],
 "metadata": {
  "kernelspec": {
   "display_name": "Python 3.9 (tensorflow)",
   "language": "python",
   "name": "tensorflow"
  },
  "language_info": {
   "codemirror_mode": {
    "name": "ipython",
    "version": 3
   },
   "file_extension": ".py",
   "mimetype": "text/x-python",
   "name": "python",
   "nbconvert_exporter": "python",
   "pygments_lexer": "ipython3",
   "version": "3.9.12"
  }
 },
 "nbformat": 4,
 "nbformat_minor": 5
}
